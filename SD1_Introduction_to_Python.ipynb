{
  "nbformat": 4,
  "nbformat_minor": 0,
  "metadata": {
    "colab": {
      "provenance": [],
      "authorship_tag": "ABX9TyOUiQVOoNFsKsi1sNRtAwPD",
      "include_colab_link": true
    },
    "kernelspec": {
      "name": "python3",
      "display_name": "Python 3"
    },
    "language_info": {
      "name": "python"
    }
  },
  "cells": [
    {
      "cell_type": "markdown",
      "metadata": {
        "id": "view-in-github",
        "colab_type": "text"
      },
      "source": [
        "<a href=\"https://colab.research.google.com/github/havaledar/CIS1250/blob/main/SD1_Introduction_to_Python.ipynb\" target=\"_parent\"><img src=\"https://colab.research.google.com/assets/colab-badge.svg\" alt=\"Open In Colab\"/></a>"
      ]
    },
    {
      "cell_type": "markdown",
      "source": [
        "# Data Types\n",
        "\n",
        "Python has several built-in data types that allow you to store data in different formats.\n",
        "\n",
        "The type() function in Python returns the type of the object passed to it.\n",
        "``` python\n",
        "type()\n",
        "```"
      ],
      "metadata": {
        "id": "4esPjEOCspIs"
      }
    },
    {
      "cell_type": "markdown",
      "source": [
        "## Strings\n",
        "\n",
        "Strings represent text data. They are defined using single quotes ' or double quotes \".\n",
        "\n",
        "```python\n",
        "s = 'This is a string'\n",
        "print(s)\n",
        "print(type(s))\n",
        "```"
      ],
      "metadata": {
        "id": "QypsBxHtssHx"
      }
    },
    {
      "cell_type": "code",
      "source": [
        "# Write your code here:\n",
        "\n"
      ],
      "metadata": {
        "colab": {
          "base_uri": "https://localhost:8080/"
        },
        "id": "32or9dcRs0R7",
        "outputId": "22e3eba9-7862-4fe1-a0f7-4de14998a280"
      },
      "execution_count": null,
      "outputs": [
        {
          "output_type": "stream",
          "name": "stdout",
          "text": [
            "This is a string\n",
            "<class 'str'>\n"
          ]
        }
      ]
    },
    {
      "cell_type": "markdown",
      "source": [],
      "metadata": {
        "id": "NK1t5s-AxFPd"
      }
    },
    {
      "cell_type": "markdown",
      "source": [
        "You can use indexing and slicing to access parts of a string:\n",
        "```python\n",
        "s = 'Hello world!'\n",
        "print(s[0])\n",
        "print(s[-1])\n",
        "print(s[2:5])\n",
        "```"
      ],
      "metadata": {
        "id": "hMfOoB2RtGM-"
      }
    },
    {
      "cell_type": "code",
      "source": [
        "# Write your code here:\n",
        "\n"
      ],
      "metadata": {
        "colab": {
          "base_uri": "https://localhost:8080/"
        },
        "id": "WLNIuw-HtOzN",
        "outputId": "02148a88-ae60-4fdf-e475-3ca2aa308e38"
      },
      "execution_count": null,
      "outputs": [
        {
          "output_type": "stream",
          "name": "stdout",
          "text": [
            "H\n",
            "!\n",
            "llo\n"
          ]
        }
      ]
    },
    {
      "cell_type": "markdown",
      "source": [
        "Common string methods include:\n",
        "```python\n",
        "s = \"hello\"\n",
        "print(s.upper())\n",
        "print(s.lower())\n",
        "print(s.count('l'))\n",
        "print(len(s))\n",
        "```"
      ],
      "metadata": {
        "id": "wi6XLEV5t7w3"
      }
    },
    {
      "cell_type": "code",
      "source": [
        "# Write your code here:\n",
        "\n"
      ],
      "metadata": {
        "colab": {
          "base_uri": "https://localhost:8080/"
        },
        "id": "eL97L7cwuClT",
        "outputId": "44484fd0-b537-4830-e6c3-92a96397da52"
      },
      "execution_count": null,
      "outputs": [
        {
          "output_type": "stream",
          "name": "stdout",
          "text": [
            "HELLO\n",
            "hello\n",
            "2\n",
            "5\n"
          ]
        }
      ]
    },
    {
      "cell_type": "markdown",
      "source": [
        "## Integers\n",
        "\n",
        "Integers represent whole numbers like 0, 5, -56.\n",
        "\n",
        "```python\n",
        "x = 15\n",
        "print(type(x))\n",
        "```"
      ],
      "metadata": {
        "id": "F-eeyJWCuQTd"
      }
    },
    {
      "cell_type": "code",
      "source": [
        "# Write your code here:\n",
        "\n"
      ],
      "metadata": {
        "colab": {
          "base_uri": "https://localhost:8080/"
        },
        "id": "WweMzr_AuU22",
        "outputId": "42945208-45b4-4b75-de73-2e94fcf41a40"
      },
      "execution_count": null,
      "outputs": [
        {
          "output_type": "stream",
          "name": "stdout",
          "text": [
            "<class 'int'>\n"
          ]
        }
      ]
    },
    {
      "cell_type": "markdown",
      "source": [
        "Common mathematical operations like +, -, *, / work on integers:\n",
        "\n",
        "```python\n",
        "x = 5\n",
        "y = 3\n",
        "print(x + y)\n",
        "print(x - y)\n",
        "print(x * y)\n",
        "print(x / y)\n",
        "```"
      ],
      "metadata": {
        "id": "7G5tTj30us2l"
      }
    },
    {
      "cell_type": "code",
      "source": [
        "# Write your code here:\n",
        "\n"
      ],
      "metadata": {
        "colab": {
          "base_uri": "https://localhost:8080/"
        },
        "id": "45YJtYzvutpX",
        "outputId": "cfa2574c-cb90-4504-ac44-330c995e087d"
      },
      "execution_count": null,
      "outputs": [
        {
          "output_type": "stream",
          "name": "stdout",
          "text": [
            "8\n",
            "2\n",
            "15\n",
            "1.6666666666666667\n"
          ]
        }
      ]
    },
    {
      "cell_type": "markdown",
      "source": [
        "## Floats\n",
        "\n",
        "Floats represent real numbers with decimals like 3.14, -2.5, 0.3333.\n",
        "\n",
        "```python\n",
        "f = 1.5\n",
        "print(type(f))\n",
        "```"
      ],
      "metadata": {
        "id": "bGlqGR7SuyL3"
      }
    },
    {
      "cell_type": "code",
      "source": [
        "# Write your code here:\n",
        "\n"
      ],
      "metadata": {
        "colab": {
          "base_uri": "https://localhost:8080/"
        },
        "id": "GiWh1_uoxHvo",
        "outputId": "0c076dba-9d10-4fa3-9afc-d42a74954db2"
      },
      "execution_count": null,
      "outputs": [
        {
          "output_type": "stream",
          "name": "stdout",
          "text": [
            "<class 'float'>\n"
          ]
        }
      ]
    },
    {
      "cell_type": "markdown",
      "source": [
        "Floats have precision up to 15 decimal places.\n",
        "\n",
        "```python\n",
        "f = 0.123456789012345\n",
        "print(f)\n",
        "```"
      ],
      "metadata": {
        "id": "fuMBhBtqxP30"
      }
    },
    {
      "cell_type": "code",
      "source": [
        "# Write your code here:\n",
        "\n"
      ],
      "metadata": {
        "colab": {
          "base_uri": "https://localhost:8080/"
        },
        "id": "Q6_1gqAnxQjd",
        "outputId": "30bcf062-10fb-44b6-fb6d-421b6629bd51"
      },
      "execution_count": null,
      "outputs": [
        {
          "output_type": "stream",
          "name": "stdout",
          "text": [
            "0.123456789012345\n"
          ]
        }
      ]
    },
    {
      "cell_type": "markdown",
      "source": [
        "## Booleans\n",
        "\n",
        "Booleans represent logical values True and False. They are often used for conditional testing:\n",
        "\n",
        "```python\n",
        "a = True\n",
        "b = False\n",
        "\n",
        "print(a == b)\n",
        "print(a and b)\n",
        "print(a or b)\n",
        "```"
      ],
      "metadata": {
        "id": "b_ggLGMSxa6C"
      }
    },
    {
      "cell_type": "code",
      "source": [
        "# Write your code here:\n",
        "\n"
      ],
      "metadata": {
        "colab": {
          "base_uri": "https://localhost:8080/"
        },
        "id": "Ow96yRFAxfy0",
        "outputId": "301435bc-ef5d-41e5-9a34-cc9d5a01a896"
      },
      "execution_count": null,
      "outputs": [
        {
          "output_type": "stream",
          "name": "stdout",
          "text": [
            "False\n",
            "False\n",
            "True\n"
          ]
        }
      ]
    },
    {
      "cell_type": "markdown",
      "source": [
        "## Lists\n",
        "\n",
        "Lists store ordered collections of objects.\n",
        "\n",
        "```python\n",
        "numbers = [1, 2, 3, 4]\n",
        "fruits = ['Apples', 'Oranges', 'Bananas']\n",
        "\n",
        "print(numbers[0])\n",
        "print(fruits[-1])\n",
        "```"
      ],
      "metadata": {
        "id": "DD5yywq9yPbK"
      }
    },
    {
      "cell_type": "code",
      "source": [
        "# Write your code here:\n",
        "\n"
      ],
      "metadata": {
        "colab": {
          "base_uri": "https://localhost:8080/"
        },
        "id": "4BdCV7UmyRbs",
        "outputId": "81dd91be-0a08-459d-8e96-7e2f05d87f15"
      },
      "execution_count": null,
      "outputs": [
        {
          "output_type": "stream",
          "name": "stdout",
          "text": [
            "1\n",
            "Bananas\n"
          ]
        }
      ]
    },
    {
      "cell_type": "markdown",
      "source": [
        "Common list operations:\n",
        "\n",
        "```python\n",
        "numbers = [1, 2, 3]\n",
        "numbers.append(4)\n",
        "numbers.insert(0, 0)\n",
        "numbers.sort()\n",
        "print(len(numbers))\n",
        "```"
      ],
      "metadata": {
        "id": "iPsc7nFeyhd7"
      }
    },
    {
      "cell_type": "code",
      "source": [
        "# Write your code here:\n",
        "\n"
      ],
      "metadata": {
        "colab": {
          "base_uri": "https://localhost:8080/"
        },
        "id": "CHpK02L0yjJ2",
        "outputId": "64663063-c76c-4be7-c810-a29306efdb92"
      },
      "execution_count": null,
      "outputs": [
        {
          "output_type": "stream",
          "name": "stdout",
          "text": [
            "5\n"
          ]
        }
      ]
    },
    {
      "cell_type": "markdown",
      "source": [
        "\n",
        "\n",
        "## Dictionaries\n",
        "\n",
        "Dictionaries map keys to values, like a map or hash table. Defined using curly braces {} with key:value pairs:\n",
        "\n",
        "```python\n",
        "person = {\n",
        "  'first_name': 'John',\n",
        "  'last_name': 'Doe',\n",
        "  'age': 30,\n",
        "  'hobbies': ['reading', 'hiking', 'coding']\n",
        "}\n",
        "\n",
        "print(person)\n",
        "```"
      ],
      "metadata": {
        "id": "xXpFAjzLqfH5"
      }
    },
    {
      "cell_type": "code",
      "execution_count": 1,
      "metadata": {
        "colab": {
          "base_uri": "https://localhost:8080/"
        },
        "id": "cgWbfbNqqXY_",
        "outputId": "6fbb14d4-f2a2-4902-ad4e-e8cb0c93cbdf"
      },
      "outputs": [
        {
          "output_type": "stream",
          "name": "stdout",
          "text": [
            "{'first_name': 'John', 'last_name': 'Doe', 'age': 30, 'hobbies': ['reading', 'hiking', 'coding']}\n"
          ]
        }
      ],
      "source": [
        "# Write your code here:\n",
        "\n"
      ]
    },
    {
      "cell_type": "markdown",
      "source": [
        "Access values using keys.\n",
        "```python\n",
        "print(person['first_name'])\n",
        "print(person['hobbies'][1])\n",
        "```"
      ],
      "metadata": {
        "id": "c-WaTsLs1qVw"
      }
    },
    {
      "cell_type": "code",
      "source": [
        "# Write your code here:\n",
        "\n"
      ],
      "metadata": {
        "colab": {
          "base_uri": "https://localhost:8080/"
        },
        "id": "_4oj9-c_1pxA",
        "outputId": "1a23c00a-c78c-4158-b9d0-82ce4044be73"
      },
      "execution_count": null,
      "outputs": [
        {
          "output_type": "stream",
          "name": "stdout",
          "text": [
            "John\n",
            "hiking\n"
          ]
        }
      ]
    },
    {
      "cell_type": "markdown",
      "source": [
        "Add a new key-value pair.\n",
        "```python\n",
        "person['job'] = 'Teacher'\n",
        "print(person)\n",
        "```"
      ],
      "metadata": {
        "id": "xf_7fyMW2PCS"
      }
    },
    {
      "cell_type": "code",
      "source": [
        "# Write your code here:\n",
        "\n"
      ],
      "metadata": {
        "colab": {
          "base_uri": "https://localhost:8080/"
        },
        "id": "LxO33ks62RLm",
        "outputId": "b28f0afc-a2ca-41d2-fd5c-9a46ad0d03d5"
      },
      "execution_count": null,
      "outputs": [
        {
          "output_type": "stream",
          "name": "stdout",
          "text": [
            "{'first_name': 'John', 'last_name': 'Doe', 'age': 31, 'hobbies': ['reading', 'hiking', 'coding'], 'job': 'Teacher'}\n"
          ]
        }
      ]
    },
    {
      "cell_type": "markdown",
      "source": [
        "Modify a value\n",
        "\n",
        "```python\n",
        "person['age'] = 31\n",
        "print(person)\n",
        "```"
      ],
      "metadata": {
        "id": "f0tTRgSz2gAi"
      }
    },
    {
      "cell_type": "code",
      "source": [
        "# Write your code here:\n",
        "\n"
      ],
      "metadata": {
        "colab": {
          "base_uri": "https://localhost:8080/"
        },
        "id": "_xNUHBNW29eH",
        "outputId": "aeafdf93-c595-4a9e-d421-1c24eb7ca0d1"
      },
      "execution_count": null,
      "outputs": [
        {
          "output_type": "stream",
          "name": "stdout",
          "text": [
            "{'first_name': 'John', 'last_name': 'Doe', 'age': 31, 'hobbies': ['reading', 'hiking', 'coding'], 'job': 'Teacher'}\n"
          ]
        }
      ]
    },
    {
      "cell_type": "markdown",
      "source": [
        "Check if key exists\n",
        "```python\n",
        "print('first_name' in person)\n",
        "print('salary' in person)\n",
        "```"
      ],
      "metadata": {
        "id": "LdUf63wS3cZd"
      }
    },
    {
      "cell_type": "code",
      "source": [
        "# Write your code here:\n",
        "\n"
      ],
      "metadata": {
        "colab": {
          "base_uri": "https://localhost:8080/"
        },
        "id": "x85suyPD3nAh",
        "outputId": "72f547a3-f282-417f-903b-74a3c66b3d96"
      },
      "execution_count": null,
      "outputs": [
        {
          "output_type": "stream",
          "name": "stdout",
          "text": [
            "True\n",
            "False\n"
          ]
        }
      ]
    },
    {
      "cell_type": "markdown",
      "source": [
        "Check if value exists\n",
        "```python\n",
        "print('John' in person.values())\n",
        "```"
      ],
      "metadata": {
        "id": "tYsymPES8T5G"
      }
    },
    {
      "cell_type": "code",
      "source": [
        "# Write your code here:\n",
        "\n"
      ],
      "metadata": {
        "colab": {
          "base_uri": "https://localhost:8080/"
        },
        "id": "taguyR618YJI",
        "outputId": "902a99b2-e641-4c50-af3f-863903a2066f"
      },
      "execution_count": 2,
      "outputs": [
        {
          "output_type": "stream",
          "name": "stdout",
          "text": [
            "True\n"
          ]
        }
      ]
    },
    {
      "cell_type": "markdown",
      "source": [
        "Get list of keys\n",
        "```python\n",
        "print(person.keys())\n",
        "```"
      ],
      "metadata": {
        "id": "IKq8XvvG3rVj"
      }
    },
    {
      "cell_type": "code",
      "source": [
        "# Write your code here:\n",
        "\n"
      ],
      "metadata": {
        "colab": {
          "base_uri": "https://localhost:8080/"
        },
        "id": "t-vGTAnN3tG5",
        "outputId": "761a06a0-7502-4637-bf83-addbc0cf340a"
      },
      "execution_count": null,
      "outputs": [
        {
          "output_type": "stream",
          "name": "stdout",
          "text": [
            "dict_keys(['first_name', 'last_name', 'age', 'hobbies', 'job'])\n"
          ]
        }
      ]
    },
    {
      "cell_type": "markdown",
      "source": [
        "Get list of values\n",
        "```python\n",
        "print(person.values())\n",
        "```"
      ],
      "metadata": {
        "id": "Lp-VJwwK3wvN"
      }
    },
    {
      "cell_type": "code",
      "source": [
        "# Write your code here:\n",
        "\n"
      ],
      "metadata": {
        "colab": {
          "base_uri": "https://localhost:8080/"
        },
        "id": "41xJkpNW3xOY",
        "outputId": "521f32c0-6b3c-4e58-f113-da470edd4640"
      },
      "execution_count": null,
      "outputs": [
        {
          "output_type": "stream",
          "name": "stdout",
          "text": [
            "dict_values(['John', 'Doe', 31, ['reading', 'hiking', 'coding'], 'Teacher'])\n"
          ]
        }
      ]
    },
    {
      "cell_type": "markdown",
      "source": [
        "Get key-value pairs\n",
        "```python\n",
        "print(person.items())\n",
        "```"
      ],
      "metadata": {
        "id": "mHIgBvRE37kN"
      }
    },
    {
      "cell_type": "code",
      "source": [
        "# Write your code here:\n",
        "\n"
      ],
      "metadata": {
        "colab": {
          "base_uri": "https://localhost:8080/"
        },
        "id": "maZKso6S39Mh",
        "outputId": "36bd4a3c-61bf-4c84-e013-08a276146f6c"
      },
      "execution_count": null,
      "outputs": [
        {
          "output_type": "stream",
          "name": "stdout",
          "text": [
            "dict_items([('first_name', 'John'), ('last_name', 'Doe'), ('age', 31), ('hobbies', ['reading', 'hiking', 'coding']), ('job', 'Teacher')])\n"
          ]
        }
      ]
    },
    {
      "cell_type": "markdown",
      "source": [
        "Remove a key\n",
        "```python\n",
        "person.pop('job')\n",
        "print(person)\n",
        "```"
      ],
      "metadata": {
        "id": "xjyb2Eju4D0k"
      }
    },
    {
      "cell_type": "code",
      "source": [
        "# Write your code here:\n",
        "\n"
      ],
      "metadata": {
        "colab": {
          "base_uri": "https://localhost:8080/"
        },
        "id": "zm2IAuOc4DKz",
        "outputId": "54a41e0c-591c-4d71-aa1a-d986fb75c3c9"
      },
      "execution_count": null,
      "outputs": [
        {
          "output_type": "stream",
          "name": "stdout",
          "text": [
            "{'first_name': 'John', 'last_name': 'Doe', 'age': 31, 'hobbies': ['reading', 'hiking', 'coding']}\n"
          ]
        }
      ]
    },
    {
      "cell_type": "markdown",
      "source": [
        "Clear all entries\n",
        "```python\n",
        "person.clear()\n",
        "print(person)\n",
        "```"
      ],
      "metadata": {
        "id": "SiuLYdgS4Nbd"
      }
    },
    {
      "cell_type": "code",
      "source": [
        "# Write your code here:\n",
        "\n"
      ],
      "metadata": {
        "colab": {
          "base_uri": "https://localhost:8080/"
        },
        "id": "pgXESyIM1NTF",
        "outputId": "d4ab5417-2c36-4030-a578-896d5ac85d2f"
      },
      "execution_count": null,
      "outputs": [
        {
          "output_type": "stream",
          "name": "stdout",
          "text": [
            "{}\n"
          ]
        }
      ]
    },
    {
      "cell_type": "markdown",
      "source": [
        "# Range\n",
        "\n",
        "The range() function in Python is used to generate a sequence of numbers. It can be used to iterate over a sequence in for loops or to create numeric lists.\n",
        "\n",
        "The basic syntax of range() is:\n",
        "\n",
        "```python\n",
        "range(start, stop, step)\n",
        "```\n",
        "\n",
        "Where:\n",
        "\n",
        "- start: The starting number of the sequence (optional). Defaults to 0.\n",
        "\n",
        "- stop: Generate numbers up to, but not including this number. Required.\n",
        "\n",
        "- step: Difference between each number in the sequence (optional). Defaults to 1."
      ],
      "metadata": {
        "id": "0I-UQDfx5Ga9"
      }
    },
    {
      "cell_type": "markdown",
      "source": [
        "Start\n",
        "```python\n",
        "# Default range from 0 to 5\n",
        "print(list(range(5)))\n",
        "\n",
        "```"
      ],
      "metadata": {
        "id": "CzTiORxC6Ad4"
      }
    },
    {
      "cell_type": "code",
      "source": [
        "# Write your code here:\n",
        "\n"
      ],
      "metadata": {
        "colab": {
          "base_uri": "https://localhost:8080/"
        },
        "id": "ucceOGp16Pno",
        "outputId": "70f8080b-0d28-4ac8-9b27-7a2aece9db2f"
      },
      "execution_count": null,
      "outputs": [
        {
          "output_type": "stream",
          "name": "stdout",
          "text": [
            "[0, 1, 2, 3, 4]\n"
          ]
        }
      ]
    },
    {
      "cell_type": "markdown",
      "source": [
        "Stop\n",
        "```python\n",
        "# From 1 to 5\n",
        "print(list(range(1, 6)))\n",
        "```"
      ],
      "metadata": {
        "id": "sL3gTypc6Dfr"
      }
    },
    {
      "cell_type": "code",
      "source": [
        "# Write your code here:\n",
        "\n"
      ],
      "metadata": {
        "colab": {
          "base_uri": "https://localhost:8080/"
        },
        "id": "4NmeRmWz6P9n",
        "outputId": "52f5beb5-d74b-43aa-9042-975dcd3000ed"
      },
      "execution_count": null,
      "outputs": [
        {
          "output_type": "stream",
          "name": "stdout",
          "text": [
            "[1, 2, 3, 4, 5]\n"
          ]
        }
      ]
    },
    {
      "cell_type": "markdown",
      "source": [
        "Step\n",
        "```python\n",
        "# From 0 to 10 in steps of 2\n",
        "print(list(range(0, 11, 2)))\n",
        "```"
      ],
      "metadata": {
        "id": "cQxamUnk6OtZ"
      }
    },
    {
      "cell_type": "code",
      "source": [
        "# Write your code here:\n",
        "\n"
      ],
      "metadata": {
        "colab": {
          "base_uri": "https://localhost:8080/"
        },
        "id": "c9lrOdp-6QUF",
        "outputId": "a76c02c5-9a56-46cd-8b73-31aff7ec2dc3"
      },
      "execution_count": null,
      "outputs": [
        {
          "output_type": "stream",
          "name": "stdout",
          "text": [
            "[0, 2, 4, 6, 8, 10]\n"
          ]
        }
      ]
    },
    {
      "cell_type": "markdown",
      "source": [
        "We can iterate through a range using a for loop:\n",
        "\n",
        "```python\n",
        "for i in range(5):\n",
        "  print(i)\n",
        "```"
      ],
      "metadata": {
        "id": "ZpBFiNyy5IBv"
      }
    },
    {
      "cell_type": "code",
      "source": [
        "# Write your code here:\n",
        "\n"
      ],
      "metadata": {
        "colab": {
          "base_uri": "https://localhost:8080/"
        },
        "id": "nSnIpbzV6bup",
        "outputId": "c577620a-0a10-4a92-de9a-d5c421d8656d"
      },
      "execution_count": null,
      "outputs": [
        {
          "output_type": "stream",
          "name": "stdout",
          "text": [
            "0\n",
            "1\n",
            "2\n",
            "3\n",
            "4\n"
          ]
        }
      ]
    },
    {
      "cell_type": "markdown",
      "source": [
        "# For\n",
        "\n",
        "The for loop in Python is used to iterate over a sequence such as a list, tuple, dictionary, string or other iterable object.\n",
        "\n",
        "The basic syntax of a for loop is:\n",
        "\n",
        "```python\n",
        "for element in iterable:\n",
        "  # code block to execute\n",
        "  \n",
        "```\n",
        "\n",
        "Where `iterable` can be any iterable object like a list, string etc."
      ],
      "metadata": {
        "id": "BOa5pnVnJqTL"
      }
    },
    {
      "cell_type": "markdown",
      "source": [
        "##List\n",
        "\n",
        "```python\n",
        "fruits = ['apple', 'banana', 'mango']\n",
        "\n",
        "for fruit in fruits:\n",
        "  print(fruit)\n",
        "```"
      ],
      "metadata": {
        "id": "a8dtRPddJ7fa"
      }
    },
    {
      "cell_type": "code",
      "source": [
        "# Write your code here:\n",
        "\n"
      ],
      "metadata": {
        "colab": {
          "base_uri": "https://localhost:8080/"
        },
        "id": "UALu_vY-J9-O",
        "outputId": "bfad1eb7-520a-40b2-ba30-29c46b229eef"
      },
      "execution_count": null,
      "outputs": [
        {
          "output_type": "stream",
          "name": "stdout",
          "text": [
            "apple\n",
            "banana\n",
            "mango\n"
          ]
        }
      ]
    },
    {
      "cell_type": "markdown",
      "source": [
        "##String\n",
        "\n",
        "```python\n",
        "for letter in 'Hello':\n",
        "  print(letter)\n",
        "```"
      ],
      "metadata": {
        "id": "iRSLJojIKJo1"
      }
    },
    {
      "cell_type": "code",
      "source": [
        "# Write your code here:\n",
        "\n"
      ],
      "metadata": {
        "colab": {
          "base_uri": "https://localhost:8080/"
        },
        "id": "fPaPuaWQKKVj",
        "outputId": "0910af78-1bc4-4898-a290-bb2bd499854d"
      },
      "execution_count": null,
      "outputs": [
        {
          "output_type": "stream",
          "name": "stdout",
          "text": [
            "H\n",
            "e\n",
            "l\n",
            "l\n",
            "o\n"
          ]
        }
      ]
    },
    {
      "cell_type": "markdown",
      "source": [
        "## Dictionary\n",
        "\n",
        "Keys:\n",
        "\n",
        "```python\n",
        "for key in person:\n",
        "  print(key)\n",
        "```\n",
        "\n"
      ],
      "metadata": {
        "id": "ZY3ecGujJsEn"
      }
    },
    {
      "cell_type": "code",
      "source": [
        "# Write your code here:\n",
        "\n"
      ],
      "metadata": {
        "colab": {
          "base_uri": "https://localhost:8080/"
        },
        "id": "8KTks61-KhVp",
        "outputId": "500867f1-0cb6-46ff-e930-2e855466ae84"
      },
      "execution_count": 7,
      "outputs": [
        {
          "output_type": "stream",
          "name": "stdout",
          "text": [
            "first_name\n",
            "last_name\n",
            "age\n",
            "hobbies\n"
          ]
        }
      ]
    },
    {
      "cell_type": "markdown",
      "source": [
        "Values:\n",
        "\n",
        "```python\n",
        "for value in person.values():\n",
        "    print(value)\n",
        "```"
      ],
      "metadata": {
        "id": "N_8fuW8_89CZ"
      }
    },
    {
      "cell_type": "code",
      "source": [
        "# Write your code here:\n",
        "\n"
      ],
      "metadata": {
        "colab": {
          "base_uri": "https://localhost:8080/"
        },
        "id": "onJKQGWB9Gdd",
        "outputId": "e91cf7e6-a87e-4a26-cae5-3bb3b9ed2f96"
      },
      "execution_count": 5,
      "outputs": [
        {
          "output_type": "stream",
          "name": "stdout",
          "text": [
            "John\n",
            "Doe\n",
            "30\n",
            "['reading', 'hiking', 'coding']\n"
          ]
        }
      ]
    },
    {
      "cell_type": "markdown",
      "source": [
        "Keys and values:\n",
        "\n",
        "```python\n",
        "for key, value in person.items():\n",
        "    print(f'{key}: {value}')\n",
        "```"
      ],
      "metadata": {
        "id": "lHc69BRz9RXs"
      }
    },
    {
      "cell_type": "code",
      "source": [
        "# Write your code here:\n",
        "\n"
      ],
      "metadata": {
        "colab": {
          "base_uri": "https://localhost:8080/"
        },
        "id": "Cn6SJuQn9QzB",
        "outputId": "696f91ef-2fea-4fce-fa15-7cd34775f7e5"
      },
      "execution_count": 10,
      "outputs": [
        {
          "output_type": "stream",
          "name": "stdout",
          "text": [
            "first_name :  John\n",
            "last_name :  Doe\n",
            "age :  30\n",
            "hobbies :  ['reading', 'hiking', 'coding']\n"
          ]
        }
      ]
    },
    {
      "cell_type": "markdown",
      "source": [
        "```python\n",
        "for key in person:\n",
        "  print(key, person[key])\n",
        "```"
      ],
      "metadata": {
        "id": "us7PmfCR-FP_"
      }
    },
    {
      "cell_type": "code",
      "source": [
        "# Write your code here:\n",
        "\n"
      ],
      "metadata": {
        "colab": {
          "base_uri": "https://localhost:8080/"
        },
        "id": "WDfh3M-E9dNM",
        "outputId": "3b21fa31-09ce-40fe-db85-77d064f38d20"
      },
      "execution_count": 11,
      "outputs": [
        {
          "output_type": "stream",
          "name": "stdout",
          "text": [
            "first_name John\n",
            "last_name Doe\n",
            "age 30\n",
            "hobbies ['reading', 'hiking', 'coding']\n"
          ]
        }
      ]
    },
    {
      "cell_type": "markdown",
      "source": [
        "## Numbers\n",
        "\n",
        "We can also loop through a range of numbers:\n",
        "\n",
        "```python\n",
        "for i in range(5):\n",
        "  print(i)\n",
        "```"
      ],
      "metadata": {
        "id": "NXHQxJzkKaLw"
      }
    },
    {
      "cell_type": "code",
      "source": [
        "# Write your code here:\n",
        "\n"
      ],
      "metadata": {
        "colab": {
          "base_uri": "https://localhost:8080/"
        },
        "id": "vjHkxQWmKeHc",
        "outputId": "2c9496b7-ef62-41d5-9ba9-567b3e7c5664"
      },
      "execution_count": null,
      "outputs": [
        {
          "output_type": "stream",
          "name": "stdout",
          "text": [
            "0\n",
            "1\n",
            "2\n",
            "3\n",
            "4\n"
          ]
        }
      ]
    },
    {
      "cell_type": "markdown",
      "source": [
        "# Function\n",
        "\n",
        "Functions in Python provide a way to group and reuse code. They allow passing data into reusable blocks and return results.\n",
        "\n",
        "The basic syntax of a function is:\n",
        "\n",
        "```python\n",
        "def function_name(parameters):\n",
        "  \"\"\"doc string\"\"\"\n",
        "  # code to execute\n",
        "  return value\n",
        "```\n",
        "\n",
        "- `function_name` - name of the function\n",
        "- `parameters` - arguments passed to the function (optional)\n",
        "- `doc string` - short description of function (optional)\n",
        "- `return` - value returned from function (optional)"
      ],
      "metadata": {
        "id": "cuaDE9WbLKg3"
      }
    },
    {
      "cell_type": "markdown",
      "source": [
        "Functions need to be called to execute:\n",
        "\n",
        "```python\n",
        "def greet(name):\n",
        "  \"\"\"Print a greeting\"\"\"\n",
        "  print(\"Hello\", name)\n",
        "\n",
        "greet(\"John\")\n",
        "```\n",
        "\n"
      ],
      "metadata": {
        "id": "8JhrHHrjLhv_"
      }
    },
    {
      "cell_type": "code",
      "source": [
        "# Write your code here:\n",
        "\n"
      ],
      "metadata": {
        "colab": {
          "base_uri": "https://localhost:8080/"
        },
        "id": "onm-fxagLmPP",
        "outputId": "22dc2588-2271-420a-81f5-a794c389d45a"
      },
      "execution_count": null,
      "outputs": [
        {
          "output_type": "stream",
          "name": "stdout",
          "text": [
            "Hello John\n"
          ]
        }
      ]
    },
    {
      "cell_type": "markdown",
      "source": [
        "Functions can have multiple parameters:\n",
        "\n",
        "```python\n",
        "def sum(a, b):\n",
        "  return a + b\n",
        "\n",
        "print(sum(2, 3))\n",
        "```\n",
        "\n"
      ],
      "metadata": {
        "id": "ksXW0BN1LlRZ"
      }
    },
    {
      "cell_type": "code",
      "source": [
        "# Write your code here:\n",
        "\n"
      ],
      "metadata": {
        "colab": {
          "base_uri": "https://localhost:8080/"
        },
        "id": "nfEiWcE_L1-A",
        "outputId": "78a2d7fb-9d94-47dc-850a-d2d05a1d726e"
      },
      "execution_count": null,
      "outputs": [
        {
          "output_type": "stream",
          "name": "stdout",
          "text": [
            "5\n"
          ]
        }
      ]
    },
    {
      "cell_type": "markdown",
      "source": [
        "We can specify default values for parameters:\n",
        "\n",
        "```python\n",
        "def increment(number, by=1):\n",
        "  return number + by\n",
        "\n",
        "print(increment(2))\n",
        "print(increment(2, 3))\n",
        "```"
      ],
      "metadata": {
        "id": "KGEVdbZXL1Cw"
      }
    },
    {
      "cell_type": "code",
      "source": [
        "# Write your code here:\n",
        "\n"
      ],
      "metadata": {
        "colab": {
          "base_uri": "https://localhost:8080/"
        },
        "id": "eDaApyFYLMx8",
        "outputId": "69fcc8e7-21b7-4a0c-8460-803e804d70da"
      },
      "execution_count": null,
      "outputs": [
        {
          "output_type": "stream",
          "name": "stdout",
          "text": [
            "3\n",
            "5\n"
          ]
        }
      ]
    },
    {
      "cell_type": "markdown",
      "source": [
        "Lab 6: Factorial"
      ],
      "metadata": {
        "id": "Db3z9YgcNWcM"
      }
    },
    {
      "cell_type": "code",
      "source": [
        "def factorial(num):\n",
        "  factorial = 1\n",
        "\n",
        "  if num < 0:\n",
        "    print(\"Number must be positive!\")\n",
        "    return None\n",
        "  else:\n",
        "    for i in range(1,num + 1):\n",
        "      factorial = factorial * i\n",
        "\n",
        "  return factorial"
      ],
      "metadata": {
        "id": "FZASWsgYMeqF"
      },
      "execution_count": null,
      "outputs": []
    },
    {
      "cell_type": "code",
      "source": [
        "factorial(5)"
      ],
      "metadata": {
        "colab": {
          "base_uri": "https://localhost:8080/"
        },
        "id": "MnM-cuXINyS9",
        "outputId": "b132d0cf-b359-48fa-d389-ffddbea9b10c"
      },
      "execution_count": null,
      "outputs": [
        {
          "output_type": "execute_result",
          "data": {
            "text/plain": [
              "120"
            ]
          },
          "metadata": {},
          "execution_count": 56
        }
      ]
    }
  ]
}